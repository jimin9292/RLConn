{
 "cells": [
  {
   "cell_type": "code",
   "execution_count": null,
   "metadata": {
    "scrolled": true
   },
   "outputs": [],
   "source": [
    "# Import modules\n",
    "\n",
    "%matplotlib inline\n",
    "\n",
    "import os\n",
    "import numpy as np\n",
    "import matplotlib.pyplot as plt\n",
    "np.random.seed(10)\n",
    "\n",
    "import matplotlib.animation as animation\n",
    "\n",
    "default_dir = os.path.dirname(os.getcwd())\n",
    "os.chdir(default_dir)\n",
    "\n",
    "import RLConn as rc\n",
    "from RLConn import problem_definitions as problems"
   ]
  },
  {
   "cell_type": "code",
   "execution_count": null,
   "metadata": {},
   "outputs": [],
   "source": [
    "# define initial network connectivity and external parameters\n",
    "\n",
    "network_dict_init = rc.connectome_utils.generate_random_network(3, 1, 8)\n",
    "\n",
    "input_vec = np.zeros(3)\n",
    "input_vec[1] = 0.03\n",
    "    \n",
    "external_params_dict = {\n",
    "\n",
    "\"input_vec\" : input_vec,\n",
    "\"ablation_mask\" : np.ones(3),\n",
    "\"tf\" : 10,\n",
    "\"t_delta\" : 0.01,\n",
    "\"cutoff_1\" : 400,\n",
    "\"cutoff_2\" : 900\n",
    "    \n",
    "}\n",
    "\n",
    "batchsize = 3\n",
    "num_epochs = 100\n",
    "err_threshold = 10\n",
    "weight_min = 0\n",
    "weight_max = 8\n",
    "plotting_period = 10 * (3*(3-1)/2)"
   ]
  },
  {
   "cell_type": "code",
   "execution_count": null,
   "metadata": {
    "scrolled": true
   },
   "outputs": [],
   "source": [
    "# Train\n",
    "\n",
    "training_result = rc.network_sim.train_network(network_dict_init, external_params_dict, \n",
    "                    batchsize = batchsize, num_epochs = num_epochs, err_threshold = err_threshold, \n",
    "                    weight_min = weight_min, weight_max = weight_max, plotting_period = plotting_period)"
   ]
  },
  {
   "cell_type": "code",
   "execution_count": null,
   "metadata": {},
   "outputs": [],
   "source": [
    "# Display results"
   ]
  }
 ],
 "metadata": {
  "kernelspec": {
   "display_name": "Python 3",
   "language": "python",
   "name": "python3"
  },
  "language_info": {
   "codemirror_mode": {
    "name": "ipython",
    "version": 3
   },
   "file_extension": ".py",
   "mimetype": "text/x-python",
   "name": "python",
   "nbconvert_exporter": "python",
   "pygments_lexer": "ipython3",
   "version": "3.7.6"
  }
 },
 "nbformat": 4,
 "nbformat_minor": 2
}
