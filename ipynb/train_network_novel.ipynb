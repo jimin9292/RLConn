{
 "cells": [
  {
   "cell_type": "code",
   "execution_count": null,
   "metadata": {
    "scrolled": true
   },
   "outputs": [],
   "source": [
    "# Import modules\n",
    "\n",
    "%matplotlib inline\n",
    "\n",
    "import os\n",
    "import numpy as np\n",
    "import matplotlib.pyplot as plt\n",
    "np.random.seed(10)\n",
    "\n",
    "import matplotlib.animation as animation\n",
    "\n",
    "default_dir = os.path.dirname(os.getcwd())\n",
    "os.chdir(default_dir)\n",
    "\n",
    "import RLConn as rc\n",
    "from RLConn import problem_definitions as problems"
   ]
  },
  {
   "cell_type": "markdown",
   "metadata": {},
   "source": [
    "## Import target in-vivo modes"
   ]
  },
  {
   "cell_type": "code",
   "execution_count": null,
   "metadata": {},
   "outputs": [],
   "source": [
    "m1_invivo = rc.neural_params.m1_target\n",
    "m2_invivo = rc.neural_params.m2_target"
   ]
  },
  {
   "cell_type": "code",
   "execution_count": null,
   "metadata": {
    "scrolled": true
   },
   "outputs": [],
   "source": [
    "centroid_coord = rc.utils.centeroidnp(np.vstack([m1_invivo, m2_invivo]))\n",
    "\n",
    "plt.figure(figsize=(5.5,5))\n",
    "\n",
    "plt.scatter(m1_invivo, m2_invivo, s = 10, color = 'black')\n",
    "plt.scatter(centroid_coord[0], centroid_coord[1], s = 10, color = 'black')\n",
    "plt.ylim(-45, 45)\n",
    "plt.xlim(-45, 45)"
   ]
  },
  {
   "cell_type": "markdown",
   "metadata": {},
   "source": [
    "## Define problem statement params and DQN params"
   ]
  },
  {
   "cell_type": "code",
   "execution_count": null,
   "metadata": {},
   "outputs": [],
   "source": [
    "# define initial network connectivity and external parameters\n",
    "\n",
    "network_dict_init = rc.connectome_utils.generate_random_network(10, 3, 8)\n",
    "\n",
    "input_vec = np.zeros(10)\n",
    "input_vec[5] = 0.3\n",
    "    \n",
    "external_params_dict = {\n",
    "\n",
    "\"input_vec\" : input_vec,\n",
    "\"ablation_mask\" : np.ones(10),\n",
    "\"tf\" : 15,\n",
    "\"t_delta\" : 0.01,\n",
    "\"cutoff_1\" : 400,\n",
    "\"cutoff_2\" : 900\n",
    "    \n",
    "}\n",
    "\n",
    "batchsize = 1\n",
    "num_epochs = 500\n",
    "err_threshold = 10\n",
    "weight_min = 0\n",
    "weight_max = 8\n",
    "plotting_period = 100 * (3*(3-1)/2)"
   ]
  },
  {
   "cell_type": "code",
   "execution_count": null,
   "metadata": {},
   "outputs": [],
   "source": [
    "network_dict_init['directionality']"
   ]
  },
  {
   "cell_type": "code",
   "execution_count": null,
   "metadata": {
    "scrolled": true
   },
   "outputs": [],
   "source": [
    "# Train\n",
    "\n",
    "training_result = rc.network_sim.train_network(network_dict_init, external_params_dict, m1_invivo, m2_invivo,\n",
    "                    batchsize = batchsize, num_epochs = num_epochs, err_threshold = err_threshold, \n",
    "                    weight_min = weight_min, weight_max = weight_max, plotting_period = plotting_period)"
   ]
  },
  {
   "cell_type": "code",
   "execution_count": null,
   "metadata": {},
   "outputs": [],
   "source": [
    "best_ind = training_result['err_list'].index(np.min(training_result['err_list']))"
   ]
  },
  {
   "cell_type": "code",
   "execution_count": null,
   "metadata": {},
   "outputs": [],
   "source": [
    "training_result['err_list'][best_ind], best_ind"
   ]
  },
  {
   "cell_type": "code",
   "execution_count": null,
   "metadata": {},
   "outputs": [],
   "source": []
  },
  {
   "cell_type": "code",
   "execution_count": null,
   "metadata": {},
   "outputs": [],
   "source": [
    "# Display results\n",
    "Gg_trained = training_result['Gg_list'][best_ind]\n",
    "Gs_trained = training_result['Gs_list'][best_ind]\n",
    "E = training_result['E']\n",
    "\n",
    "error_dist_flattened, error_frobenius, m1_test, m2_test = rc.utils.compute_score(Gg_trained, Gs_trained, E, \n",
    "                    input_vec, external_params_dict['ablation_mask'], \n",
    "                    external_params_dict['tf'], external_params_dict['t_delta'], \n",
    "                       external_params_dict['cutoff_1'], external_params_dict['cutoff_2'],\n",
    "                    m1_target = rc.neural_params.m1_target,\n",
    "                    m2_target = rc.neural_params.m2_target,\n",
    "                    plot_result = True,\n",
    "                    verbose = True)"
   ]
  },
  {
   "cell_type": "code",
   "execution_count": null,
   "metadata": {},
   "outputs": [],
   "source": []
  }
 ],
 "metadata": {
  "kernelspec": {
   "display_name": "Python 3",
   "language": "python",
   "name": "python3"
  },
  "language_info": {
   "codemirror_mode": {
    "name": "ipython",
    "version": 3
   },
   "file_extension": ".py",
   "mimetype": "text/x-python",
   "name": "python",
   "nbconvert_exporter": "python",
   "pygments_lexer": "ipython3",
   "version": "3.7.6"
  }
 },
 "nbformat": 4,
 "nbformat_minor": 2
}
