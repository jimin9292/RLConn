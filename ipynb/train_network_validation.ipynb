{
 "cells": [
  {
   "cell_type": "code",
   "execution_count": null,
   "metadata": {
    "scrolled": true
   },
   "outputs": [],
   "source": [
    "# Import modules\n",
    "\n",
    "%matplotlib inline\n",
    "\n",
    "import os\n",
    "import numpy as np\n",
    "import matplotlib.pyplot as plt\n",
    "np.random.seed(10)\n",
    "\n",
    "import matplotlib.animation as animation\n",
    "\n",
    "default_dir = os.path.dirname(os.getcwd())\n",
    "os.chdir(default_dir)\n",
    "\n",
    "import RLConn as rc\n",
    "from RLConn import problem_definitions as problems"
   ]
  },
  {
   "cell_type": "markdown",
   "metadata": {},
   "source": [
    "## Import ground truth modes"
   ]
  },
  {
   "cell_type": "code",
   "execution_count": null,
   "metadata": {},
   "outputs": [],
   "source": [
    "m1_gt = rc.neural_params.m1_gt\n",
    "m2_gt = rc.neural_params.m2_gt"
   ]
  },
  {
   "cell_type": "code",
   "execution_count": null,
   "metadata": {},
   "outputs": [],
   "source": [
    "plt.figure(figsize=(5.5,5))\n",
    "\n",
    "plt.scatter(m1_gt, m2_gt, s = 10, color = 'black')\n",
    "plt.ylim(-45, 45)\n",
    "plt.xlim(-45, 45)"
   ]
  },
  {
   "cell_type": "markdown",
   "metadata": {},
   "source": [
    "## Define problem statement params and DQN params"
   ]
  },
  {
   "cell_type": "code",
   "execution_count": null,
   "metadata": {},
   "outputs": [],
   "source": [
    "Gg_noise = np.random.randint(-2, 2, (3,3))\n",
    "Gs_noise = np.random.randint(-2, 2, (3,3))\n",
    "\n",
    "Gg_groundtruth = np.array([[0, 8, 5],\n",
    "               [8, 0, 2],\n",
    "               [5, 2, 0]])\n",
    "\n",
    "Gg_noised = Gg_groundtruth + Gg_noise\n",
    "\n",
    "Gs_groundtruth = np.array([[0, 2, 8],\n",
    "               [7, 0, 3],\n",
    "               [7, 7, 0]])\n",
    "\n",
    "Gs_noised = Gs_groundtruth + Gs_noise\n",
    "\n",
    "E = np.array([1, 0, 0])"
   ]
  },
  {
   "cell_type": "code",
   "execution_count": null,
   "metadata": {},
   "outputs": [],
   "source": [
    "network_dict_init = {\n",
    "    \n",
    "    \"gap\": Gg_noised,\n",
    "    \"syn\": Gs_noised,\n",
    "    \"directionality\": E\n",
    "}\n",
    "\n",
    "\n",
    "external_params_dict = {\n",
    "\n",
    "\"input_vec\" : [0, 0.03, 0],\n",
    "\"ablation_mask\" : np.ones(3),\n",
    "\"tf\" : 10,\n",
    "\"t_delta\" : 0.01,\n",
    "\"cutoff_1\" : 400,\n",
    "\"cutoff_2\" : 900\n",
    "    \n",
    "}\n",
    "\n",
    "# Feel free to change the params\n",
    "\n",
    "batchsize = 3\n",
    "num_epochs = 10000\n",
    "err_threshold = 10\n",
    "weight_min = 0\n",
    "weight_max = 8\n",
    "plotting_period = 1000 * (3*(3-1)/2)"
   ]
  },
  {
   "cell_type": "markdown",
   "metadata": {},
   "source": [
    "## Training"
   ]
  },
  {
   "cell_type": "code",
   "execution_count": null,
   "metadata": {
    "scrolled": false
   },
   "outputs": [],
   "source": [
    "# Train\n",
    "\n",
    "training_result = rc.network_sim.train_network(network_dict_init, external_params_dict, m1_gt, m2_gt,\n",
    "                    batchsize = batchsize, num_epochs = num_epochs, err_threshold = err_threshold, \n",
    "                    weight_min = weight_min, weight_max = weight_max, plotting_period = plotting_period)"
   ]
  },
  {
   "cell_type": "code",
   "execution_count": null,
   "metadata": {},
   "outputs": [],
   "source": [
    "# Display results\n",
    "Gg_trained = training_result['Gg_list'][your best index]\n",
    "Gs_trained = training_result['Gs_list'][your best index]\n",
    "E = training_result['E']\n",
    "\n",
    "mean_error, sum_error = rc.utils.compute_score(Gg_trained, Gs_trained, E, \n",
    "                    input_vec, external_params_dict['ablation_mask'], \n",
    "                    external_params_dict['tf'], external_params_dict['t_delta'], \n",
    "                       external_params_dict['cutoff_1'], external_params_dict['cutoff_2'],\n",
    "                    m1_target = m1_gt,\n",
    "                    m2_target = m2_gt,\n",
    "                    plot_result = True,\n",
    "                    verbose = True)"
   ]
  }
 ],
 "metadata": {
  "kernelspec": {
   "display_name": "Python 3",
   "language": "python",
   "name": "python3"
  },
  "language_info": {
   "codemirror_mode": {
    "name": "ipython",
    "version": 3
   },
   "file_extension": ".py",
   "mimetype": "text/x-python",
   "name": "python",
   "nbconvert_exporter": "python",
   "pygments_lexer": "ipython3",
   "version": "3.7.6"
  }
 },
 "nbformat": 4,
 "nbformat_minor": 2
}
