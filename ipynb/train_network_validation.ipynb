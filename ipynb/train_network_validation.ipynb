{
 "cells": [
  {
   "cell_type": "code",
   "execution_count": null,
   "metadata": {
    "scrolled": true
   },
   "outputs": [],
   "source": [
    "# Import modules\n",
    "\n",
    "%matplotlib inline\n",
    "\n",
    "import os\n",
    "import numpy as np\n",
    "import matplotlib.pyplot as plt\n",
    "np.random.seed(10)\n",
    "\n",
    "import matplotlib.animation as animation\n",
    "\n",
    "default_dir = os.path.dirname(os.getcwd())\n",
    "os.chdir(default_dir)\n",
    "\n",
    "import RLConn as rc\n",
    "from RLConn import problem_definitions as problems"
   ]
  },
  {
   "cell_type": "markdown",
   "metadata": {},
   "source": [
    "## Import ground truth modes"
   ]
  },
  {
   "cell_type": "code",
   "execution_count": null,
   "metadata": {},
   "outputs": [],
   "source": [
    "m1_gt = rc.neural_params.m1_gt\n",
    "m2_gt = rc.neural_params.m2_gt"
   ]
  },
  {
   "cell_type": "code",
   "execution_count": null,
   "metadata": {},
   "outputs": [],
   "source": [
    "centroid_coord = rc.utils.centeroidnp(np.vstack([m1_gt,m2_gt]))\n",
    "\n",
    "plt.figure(figsize=(5.5,5))\n",
    "\n",
    "plt.scatter(m1_gt, m2_gt, s = 10, color = 'black')\n",
    "plt.scatter(centroid_coord[0], centroid_coord[1], s = 10, color = 'black')\n",
    "plt.ylim(-45, 45)\n",
    "plt.xlim(-45, 45)"
   ]
  },
  {
   "cell_type": "markdown",
   "metadata": {},
   "source": [
    "## Define problem statement params and DQN params"
   ]
  },
  {
   "cell_type": "code",
   "execution_count": null,
   "metadata": {},
   "outputs": [],
   "source": [
    "Gg_noise = np.random.randint(-2, 2, (3,3))\n",
    "Gg_noise = (Gg_noise + Gg_noise.T)/2\n",
    "Gg_noise = Gg_noise.astype('int')\n",
    "np.fill_diagonal(Gg_noise, 0)\n",
    "\n",
    "Gs_noise = np.random.randint(-2, 2, (3,3))\n",
    "np.fill_diagonal(Gs_noise, 0)\n",
    "\n",
    "Gg_groundtruth = np.array([[0, 8, 5],\n",
    "                           [8, 0, 2],\n",
    "                           [5, 2, 0]]).astype('float')\n",
    "\n",
    "Gg_noised = Gg_groundtruth + Gg_noise\n",
    "Gg_noised[Gg_noised < 0] = 0\n",
    "\n",
    "assert np.sum(Gg_noised == Gg_noised.T) == 9\n",
    "assert np.diag(Gg_noised).sum() == 0\n",
    "\n",
    "Gs_groundtruth = np.array([[0, 2, 8],\n",
    "                           [7, 0, 3],\n",
    "                           [7, 7, 0]]).astype('float')\n",
    "\n",
    "Gs_noised = Gs_groundtruth + Gs_noise\n",
    "Gs_noised[Gs_noised < 0] = 0\n",
    "\n",
    "assert np.diag(Gs_noised).sum() == 0\n",
    "\n",
    "E = np.array([1, 0, 0])"
   ]
  },
  {
   "cell_type": "code",
   "execution_count": null,
   "metadata": {},
   "outputs": [],
   "source": [
    "network_dict_init = {\n",
    "    \n",
    "    \"gap\": Gg_noised,\n",
    "    \"syn\": Gs_noised,\n",
    "    \"directionality\": E\n",
    "}\n",
    "\n",
    "\n",
    "external_params_dict = {\n",
    "\n",
    "\"input_vec\" : [0, 0.03, 0],\n",
    "\"ablation_mask\" : np.ones(3),\n",
    "\"tf\" : 10,\n",
    "\"t_delta\" : 0.01,\n",
    "\"cutoff_1\" : 400,\n",
    "\"cutoff_2\" : 900\n",
    "    \n",
    "}\n",
    "\n",
    "# Feel free to change the params\n",
    "\n",
    "batchsize = 1\n",
    "num_epochs = 10000\n",
    "err_threshold = 10\n",
    "weight_min = 0\n",
    "weight_max = np.max(np.max([network_dict_init['gap'], network_dict_init['syn']]))\n",
    "plotting_period = 300"
   ]
  },
  {
   "cell_type": "markdown",
   "metadata": {},
   "source": [
    "## Training"
   ]
  },
  {
   "cell_type": "code",
   "execution_count": null,
   "metadata": {
    "scrolled": false
   },
   "outputs": [],
   "source": [
    "# Train\n",
    "\n",
    "training_result = rc.network_sim.train_network(network_dict_init, external_params_dict, m1_gt, m2_gt,\n",
    "                    batchsize = batchsize, num_epochs = num_epochs, err_threshold = err_threshold, \n",
    "                    weight_min = weight_min, weight_max = weight_max, plotting_period = plotting_period)"
   ]
  },
  {
   "cell_type": "code",
   "execution_count": null,
   "metadata": {
    "scrolled": true
   },
   "outputs": [],
   "source": [
    "best_ind = training_result['err_list'].index(np.min(training_result['err_list']))\n",
    "#best_ind = np.where(validation['err_list'] == np.min(validation['err_list']))"
   ]
  },
  {
   "cell_type": "code",
   "execution_count": null,
   "metadata": {},
   "outputs": [],
   "source": [
    "training_result['err_list'][best_ind], best_ind"
   ]
  },
  {
   "cell_type": "code",
   "execution_count": null,
   "metadata": {},
   "outputs": [],
   "source": [
    "np.savez('validation_train.npz', **training_result)"
   ]
  },
  {
   "cell_type": "code",
   "execution_count": null,
   "metadata": {},
   "outputs": [],
   "source": [
    "validation = np.load('validation_train.npz')"
   ]
  },
  {
   "cell_type": "code",
   "execution_count": null,
   "metadata": {},
   "outputs": [],
   "source": [
    "plt.hist(-np.tanh(0.005 * np.diff(validation['err_list'])), bins = 5)"
   ]
  },
  {
   "cell_type": "code",
   "execution_count": null,
   "metadata": {},
   "outputs": [],
   "source": [
    "plt.plot(np.diff(validation['err_list']))\n",
    "plt.ylim(-10, 10)"
   ]
  },
  {
   "cell_type": "code",
   "execution_count": null,
   "metadata": {},
   "outputs": [],
   "source": [
    "# Display results\n",
    "Gg_init = training_result['Gg_list'][2]\n",
    "Gs_init = training_result['Gs_list'][2]\n",
    "E = training_result['E']\n",
    "\n",
    "Gg_trained = training_result['Gg_list'][best_ind]\n",
    "Gs_trained = training_result['Gs_list'][best_ind]\n",
    "\n",
    "#Gg_init = validation['Gg_list'][2]\n",
    "#Gs_init = validation['Gs_list'][2]\n",
    "#E = validation['E']\n",
    "\n",
    "#Gg_trained = validation['Gg_list'][3]\n",
    "#Gs_trained = validation['Gs_list'][3]\n",
    "\n",
    "m1_init, m2_init = rc.utils.compute_score(Gg_init, Gs_init, E, \n",
    "                    external_params_dict['input_vec'], external_params_dict['ablation_mask'], \n",
    "                    external_params_dict['tf'], external_params_dict['t_delta'], \n",
    "                       external_params_dict['cutoff_1'], external_params_dict['cutoff_2'],\n",
    "                    m1_target = m1_gt,\n",
    "                    m2_target = m2_gt,\n",
    "                    plot_result = True,\n",
    "                    verbose = True)[-2:]\n",
    "\n",
    "m1_trained, m2_trained = rc.utils.compute_score(Gg_trained, Gs_trained, E, \n",
    "                    external_params_dict['input_vec'], external_params_dict['ablation_mask'], \n",
    "                    external_params_dict['tf'], external_params_dict['t_delta'], \n",
    "                       external_params_dict['cutoff_1'], external_params_dict['cutoff_2'],\n",
    "                    m1_target = m1_gt,\n",
    "                    m2_target = m2_gt,\n",
    "                    plot_result = True,\n",
    "                    verbose = True)[-2:]"
   ]
  },
  {
   "cell_type": "code",
   "execution_count": null,
   "metadata": {},
   "outputs": [],
   "source": [
    "centroid_coord = rc.utils.centeroidnp(np.vstack([m1_trained,m2_trained]))\n",
    "\n",
    "plt.figure(figsize=(5.5,5))\n",
    "\n",
    "plt.scatter(m1_trained, m2_trained, s = 10, color = 'black')\n",
    "plt.scatter(centroid_coord[0], [1], s = 10, color = 'black')\n",
    "plt.ylim(-45, 45)\n",
    "plt.xlim(-45, 45)"
   ]
  },
  {
   "cell_type": "code",
   "execution_count": null,
   "metadata": {},
   "outputs": [],
   "source": [
    "def l2_err(m1_target, m2_target, m1_test, m2_test):\n",
    "    \n",
    "    m1_diff_dist = np.subtract(m1_target, m1_test)\n",
    "    m2_diff_dist = np.subtract(m2_target, m2_test)\n",
    "\n",
    "    m_joined_dist = np.vstack([m1_diff_dist, m2_diff_dist])\n",
    "    errors_dist = np.sqrt(np.power(m_joined_dist, 2).sum(axis = 0))\n",
    "\n",
    "    l2_err = np.mean(errors_dist)\n",
    "    \n",
    "    return l2_err"
   ]
  },
  {
   "cell_type": "code",
   "execution_count": null,
   "metadata": {},
   "outputs": [],
   "source": [
    "init_err = l2_err(m1_gt, m2_gt, m1_init, m2_init)\n",
    "trained_err = l2_err(m1_gt, m2_gt, m1_trained, m2_trained)"
   ]
  },
  {
   "cell_type": "code",
   "execution_count": null,
   "metadata": {},
   "outputs": [],
   "source": [
    "#(63.87632835483021, 13.947343895884398)\n",
    "init_err, trained_err"
   ]
  },
  {
   "cell_type": "code",
   "execution_count": null,
   "metadata": {},
   "outputs": [],
   "source": [
    "plt.figure(figsize=(5,5))\n",
    "\n",
    "plt.pcolor(Gg_init, cmap = 'Reds', vmin = 0, vmax = 8)\n",
    "plt.ylim(3, 0)"
   ]
  },
  {
   "cell_type": "code",
   "execution_count": null,
   "metadata": {},
   "outputs": [],
   "source": [
    "plt.figure(figsize=(5,5))\n",
    "\n",
    "plt.pcolor(Gg_trained, cmap = 'Reds', vmin = 0, vmax = 8)\n",
    "plt.ylim(3, 0)"
   ]
  },
  {
   "cell_type": "code",
   "execution_count": null,
   "metadata": {},
   "outputs": [],
   "source": [
    "plt.figure(figsize=(5,5))\n",
    "\n",
    "plt.pcolor(Gs_init, cmap = 'Blues', vmin = 0, vmax = 8)\n",
    "plt.ylim(3, 0)"
   ]
  },
  {
   "cell_type": "code",
   "execution_count": null,
   "metadata": {},
   "outputs": [],
   "source": [
    "plt.figure(figsize=(5,5))\n",
    "\n",
    "plt.pcolor(Gs_trained, cmap = 'Blues', vmin = 0, vmax = 8)\n",
    "plt.ylim(3, 0)"
   ]
  },
  {
   "cell_type": "code",
   "execution_count": null,
   "metadata": {},
   "outputs": [],
   "source": [
    "np.save('Gg_init.npy', Gg_init) \n",
    "np.save('Gs_init.npy', Gs_init) "
   ]
  },
  {
   "cell_type": "code",
   "execution_count": null,
   "metadata": {},
   "outputs": [],
   "source": [
    "Gg_init, Gg_groundtruth"
   ]
  },
  {
   "cell_type": "code",
   "execution_count": null,
   "metadata": {},
   "outputs": [],
   "source": [
    "plt.figure(figsize=(5.5,5))\n",
    "\n",
    "#plt.scatter(m1_init, m2_init, s = 0.75, color = 'red')\n",
    "plt.scatter(m1_trained, m2_trained, s = 0.75, color = 'red')\n",
    "plt.scatter(m1_gt, m2_gt, s = 0.75, color = 'black')\n",
    "plt.ylim(-60, 60)\n",
    "plt.xlim(-60, 60)"
   ]
  }
 ],
 "metadata": {
  "kernelspec": {
   "display_name": "Python 3",
   "language": "python",
   "name": "python3"
  },
  "language_info": {
   "codemirror_mode": {
    "name": "ipython",
    "version": 3
   },
   "file_extension": ".py",
   "mimetype": "text/x-python",
   "name": "python",
   "nbconvert_exporter": "python",
   "pygments_lexer": "ipython3",
   "version": "3.7.6"
  }
 },
 "nbformat": 4,
 "nbformat_minor": 2
}
