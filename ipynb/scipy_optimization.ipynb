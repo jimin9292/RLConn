{
 "cells": [
  {
   "cell_type": "code",
   "execution_count": 1,
   "metadata": {},
   "outputs": [],
   "source": [
    "t_delta = 0.01"
   ]
  },
  {
   "cell_type": "markdown",
   "metadata": {},
   "source": [
    "# Golden dynamics visualization"
   ]
  },
  {
   "cell_type": "code",
   "execution_count": 2,
   "metadata": {},
   "outputs": [
    {
     "name": "stderr",
     "output_type": "stream",
     "text": [
      "/home/stephen/anaconda3/envs/rlconn-env/lib/python3.7/site-packages/tensorflow/python/framework/dtypes.py:516: FutureWarning: Passing (type, 1) or '1type' as a synonym of type is deprecated; in a future version of numpy, it will be understood as (type, (1,)) / '(1,)type'.\n",
      "  _np_qint8 = np.dtype([(\"qint8\", np.int8, 1)])\n",
      "/home/stephen/anaconda3/envs/rlconn-env/lib/python3.7/site-packages/tensorflow/python/framework/dtypes.py:517: FutureWarning: Passing (type, 1) or '1type' as a synonym of type is deprecated; in a future version of numpy, it will be understood as (type, (1,)) / '(1,)type'.\n",
      "  _np_quint8 = np.dtype([(\"quint8\", np.uint8, 1)])\n",
      "/home/stephen/anaconda3/envs/rlconn-env/lib/python3.7/site-packages/tensorflow/python/framework/dtypes.py:518: FutureWarning: Passing (type, 1) or '1type' as a synonym of type is deprecated; in a future version of numpy, it will be understood as (type, (1,)) / '(1,)type'.\n",
      "  _np_qint16 = np.dtype([(\"qint16\", np.int16, 1)])\n",
      "/home/stephen/anaconda3/envs/rlconn-env/lib/python3.7/site-packages/tensorflow/python/framework/dtypes.py:519: FutureWarning: Passing (type, 1) or '1type' as a synonym of type is deprecated; in a future version of numpy, it will be understood as (type, (1,)) / '(1,)type'.\n",
      "  _np_quint16 = np.dtype([(\"quint16\", np.uint16, 1)])\n",
      "/home/stephen/anaconda3/envs/rlconn-env/lib/python3.7/site-packages/tensorflow/python/framework/dtypes.py:520: FutureWarning: Passing (type, 1) or '1type' as a synonym of type is deprecated; in a future version of numpy, it will be understood as (type, (1,)) / '(1,)type'.\n",
      "  _np_qint32 = np.dtype([(\"qint32\", np.int32, 1)])\n",
      "/home/stephen/anaconda3/envs/rlconn-env/lib/python3.7/site-packages/tensorflow/python/framework/dtypes.py:525: FutureWarning: Passing (type, 1) or '1type' as a synonym of type is deprecated; in a future version of numpy, it will be understood as (type, (1,)) / '(1,)type'.\n",
      "  np_resource = np.dtype([(\"resource\", np.ubyte, 1)])\n"
     ]
    },
    {
     "name": "stdout",
     "output_type": "stream",
     "text": [
      "WARNING:tensorflow:From /home/stephen/Documents/code/RLConn/RLConn/control_dqn.py:5: The name tf.set_random_seed is deprecated. Please use tf.compat.v1.set_random_seed instead.\n",
      "\n",
      "WARNING:tensorflow:From /home/stephen/Documents/code/RLConn/RLConn/control_dqn.py:58: The name tf.placeholder is deprecated. Please use tf.compat.v1.placeholder instead.\n",
      "\n",
      "WARNING:tensorflow:From /home/stephen/Documents/code/RLConn/RLConn/control_dqn.py:66: The name tf.variable_scope is deprecated. Please use tf.compat.v1.variable_scope instead.\n",
      "\n",
      "WARNING:tensorflow:From /home/stephen/Documents/code/RLConn/RLConn/control_dqn.py:68: dense (from tensorflow.python.layers.core) is deprecated and will be removed in a future version.\n",
      "Instructions for updating:\n",
      "Use keras.layers.dense instead.\n",
      "WARNING:tensorflow:Entity <bound method Dense.call of <tensorflow.python.layers.core.Dense object at 0x7f84e1e46910>> could not be transformed and will be executed as-is. Please report this to the AutgoGraph team. When filing the bug, set the verbosity to 10 (on Linux, `export AUTOGRAPH_VERBOSITY=10`) and attach the full output. Cause: converting <bound method Dense.call of <tensorflow.python.layers.core.Dense object at 0x7f84e1e46910>>: AssertionError: Bad argument number for Name: 3, expecting 4\n"
     ]
    },
    {
     "name": "stderr",
     "output_type": "stream",
     "text": [
      "/home/stephen/anaconda3/envs/rlconn-env/lib/python3.7/site-packages/tensorboard/compat/tensorflow_stub/dtypes.py:541: FutureWarning: Passing (type, 1) or '1type' as a synonym of type is deprecated; in a future version of numpy, it will be understood as (type, (1,)) / '(1,)type'.\n",
      "  _np_qint8 = np.dtype([(\"qint8\", np.int8, 1)])\n",
      "/home/stephen/anaconda3/envs/rlconn-env/lib/python3.7/site-packages/tensorboard/compat/tensorflow_stub/dtypes.py:542: FutureWarning: Passing (type, 1) or '1type' as a synonym of type is deprecated; in a future version of numpy, it will be understood as (type, (1,)) / '(1,)type'.\n",
      "  _np_quint8 = np.dtype([(\"quint8\", np.uint8, 1)])\n",
      "/home/stephen/anaconda3/envs/rlconn-env/lib/python3.7/site-packages/tensorboard/compat/tensorflow_stub/dtypes.py:543: FutureWarning: Passing (type, 1) or '1type' as a synonym of type is deprecated; in a future version of numpy, it will be understood as (type, (1,)) / '(1,)type'.\n",
      "  _np_qint16 = np.dtype([(\"qint16\", np.int16, 1)])\n",
      "/home/stephen/anaconda3/envs/rlconn-env/lib/python3.7/site-packages/tensorboard/compat/tensorflow_stub/dtypes.py:544: FutureWarning: Passing (type, 1) or '1type' as a synonym of type is deprecated; in a future version of numpy, it will be understood as (type, (1,)) / '(1,)type'.\n",
      "  _np_quint16 = np.dtype([(\"quint16\", np.uint16, 1)])\n",
      "/home/stephen/anaconda3/envs/rlconn-env/lib/python3.7/site-packages/tensorboard/compat/tensorflow_stub/dtypes.py:545: FutureWarning: Passing (type, 1) or '1type' as a synonym of type is deprecated; in a future version of numpy, it will be understood as (type, (1,)) / '(1,)type'.\n",
      "  _np_qint32 = np.dtype([(\"qint32\", np.int32, 1)])\n",
      "/home/stephen/anaconda3/envs/rlconn-env/lib/python3.7/site-packages/tensorboard/compat/tensorflow_stub/dtypes.py:550: FutureWarning: Passing (type, 1) or '1type' as a synonym of type is deprecated; in a future version of numpy, it will be understood as (type, (1,)) / '(1,)type'.\n",
      "  np_resource = np.dtype([(\"resource\", np.ubyte, 1)])\n"
     ]
    },
    {
     "name": "stdout",
     "output_type": "stream",
     "text": [
      "WARNING: Entity <bound method Dense.call of <tensorflow.python.layers.core.Dense object at 0x7f84e1e46910>> could not be transformed and will be executed as-is. Please report this to the AutgoGraph team. When filing the bug, set the verbosity to 10 (on Linux, `export AUTOGRAPH_VERBOSITY=10`) and attach the full output. Cause: converting <bound method Dense.call of <tensorflow.python.layers.core.Dense object at 0x7f84e1e46910>>: AssertionError: Bad argument number for Name: 3, expecting 4\n",
      "WARNING:tensorflow:Entity <bound method Dense.call of <tensorflow.python.layers.core.Dense object at 0x7f84d050d210>> could not be transformed and will be executed as-is. Please report this to the AutgoGraph team. When filing the bug, set the verbosity to 10 (on Linux, `export AUTOGRAPH_VERBOSITY=10`) and attach the full output. Cause: converting <bound method Dense.call of <tensorflow.python.layers.core.Dense object at 0x7f84d050d210>>: AssertionError: Bad argument number for Name: 3, expecting 4\n",
      "WARNING: Entity <bound method Dense.call of <tensorflow.python.layers.core.Dense object at 0x7f84d050d210>> could not be transformed and will be executed as-is. Please report this to the AutgoGraph team. When filing the bug, set the verbosity to 10 (on Linux, `export AUTOGRAPH_VERBOSITY=10`) and attach the full output. Cause: converting <bound method Dense.call of <tensorflow.python.layers.core.Dense object at 0x7f84d050d210>>: AssertionError: Bad argument number for Name: 3, expecting 4\n",
      "WARNING:tensorflow:Entity <bound method Dense.call of <tensorflow.python.layers.core.Dense object at 0x7f84ec300b50>> could not be transformed and will be executed as-is. Please report this to the AutgoGraph team. When filing the bug, set the verbosity to 10 (on Linux, `export AUTOGRAPH_VERBOSITY=10`) and attach the full output. Cause: converting <bound method Dense.call of <tensorflow.python.layers.core.Dense object at 0x7f84ec300b50>>: AssertionError: Bad argument number for Name: 3, expecting 4\n",
      "WARNING: Entity <bound method Dense.call of <tensorflow.python.layers.core.Dense object at 0x7f84ec300b50>> could not be transformed and will be executed as-is. Please report this to the AutgoGraph team. When filing the bug, set the verbosity to 10 (on Linux, `export AUTOGRAPH_VERBOSITY=10`) and attach the full output. Cause: converting <bound method Dense.call of <tensorflow.python.layers.core.Dense object at 0x7f84ec300b50>>: AssertionError: Bad argument number for Name: 3, expecting 4\n",
      "WARNING:tensorflow:Entity <bound method Dense.call of <tensorflow.python.layers.core.Dense object at 0x7f84ec300b50>> could not be transformed and will be executed as-is. Please report this to the AutgoGraph team. When filing the bug, set the verbosity to 10 (on Linux, `export AUTOGRAPH_VERBOSITY=10`) and attach the full output. Cause: converting <bound method Dense.call of <tensorflow.python.layers.core.Dense object at 0x7f84ec300b50>>: AssertionError: Bad argument number for Name: 3, expecting 4\n",
      "WARNING: Entity <bound method Dense.call of <tensorflow.python.layers.core.Dense object at 0x7f84ec300b50>> could not be transformed and will be executed as-is. Please report this to the AutgoGraph team. When filing the bug, set the verbosity to 10 (on Linux, `export AUTOGRAPH_VERBOSITY=10`) and attach the full output. Cause: converting <bound method Dense.call of <tensorflow.python.layers.core.Dense object at 0x7f84ec300b50>>: AssertionError: Bad argument number for Name: 3, expecting 4\n",
      "WARNING:tensorflow:Entity <bound method Dense.call of <tensorflow.python.layers.core.Dense object at 0x7f84ec300b50>> could not be transformed and will be executed as-is. Please report this to the AutgoGraph team. When filing the bug, set the verbosity to 10 (on Linux, `export AUTOGRAPH_VERBOSITY=10`) and attach the full output. Cause: converting <bound method Dense.call of <tensorflow.python.layers.core.Dense object at 0x7f84ec300b50>>: AssertionError: Bad argument number for Name: 3, expecting 4\n",
      "WARNING: Entity <bound method Dense.call of <tensorflow.python.layers.core.Dense object at 0x7f84ec300b50>> could not be transformed and will be executed as-is. Please report this to the AutgoGraph team. When filing the bug, set the verbosity to 10 (on Linux, `export AUTOGRAPH_VERBOSITY=10`) and attach the full output. Cause: converting <bound method Dense.call of <tensorflow.python.layers.core.Dense object at 0x7f84ec300b50>>: AssertionError: Bad argument number for Name: 3, expecting 4\n",
      "WARNING:tensorflow:Entity <bound method Dense.call of <tensorflow.python.layers.core.Dense object at 0x7f84ec300b50>> could not be transformed and will be executed as-is. Please report this to the AutgoGraph team. When filing the bug, set the verbosity to 10 (on Linux, `export AUTOGRAPH_VERBOSITY=10`) and attach the full output. Cause: converting <bound method Dense.call of <tensorflow.python.layers.core.Dense object at 0x7f84ec300b50>>: AssertionError: Bad argument number for Name: 3, expecting 4\n",
      "WARNING: Entity <bound method Dense.call of <tensorflow.python.layers.core.Dense object at 0x7f84ec300b50>> could not be transformed and will be executed as-is. Please report this to the AutgoGraph team. When filing the bug, set the verbosity to 10 (on Linux, `export AUTOGRAPH_VERBOSITY=10`) and attach the full output. Cause: converting <bound method Dense.call of <tensorflow.python.layers.core.Dense object at 0x7f84ec300b50>>: AssertionError: Bad argument number for Name: 3, expecting 4\n",
      "WARNING:tensorflow:Entity <bound method Dense.call of <tensorflow.python.layers.core.Dense object at 0x7f84ec300b50>> could not be transformed and will be executed as-is. Please report this to the AutgoGraph team. When filing the bug, set the verbosity to 10 (on Linux, `export AUTOGRAPH_VERBOSITY=10`) and attach the full output. Cause: converting <bound method Dense.call of <tensorflow.python.layers.core.Dense object at 0x7f84ec300b50>>: AssertionError: Bad argument number for Name: 3, expecting 4\n",
      "WARNING: Entity <bound method Dense.call of <tensorflow.python.layers.core.Dense object at 0x7f84ec300b50>> could not be transformed and will be executed as-is. Please report this to the AutgoGraph team. When filing the bug, set the verbosity to 10 (on Linux, `export AUTOGRAPH_VERBOSITY=10`) and attach the full output. Cause: converting <bound method Dense.call of <tensorflow.python.layers.core.Dense object at 0x7f84ec300b50>>: AssertionError: Bad argument number for Name: 3, expecting 4\n",
      "WARNING:tensorflow:Entity <bound method Dense.call of <tensorflow.python.layers.core.Dense object at 0x7f84ec300b50>> could not be transformed and will be executed as-is. Please report this to the AutgoGraph team. When filing the bug, set the verbosity to 10 (on Linux, `export AUTOGRAPH_VERBOSITY=10`) and attach the full output. Cause: converting <bound method Dense.call of <tensorflow.python.layers.core.Dense object at 0x7f84ec300b50>>: AssertionError: Bad argument number for Name: 3, expecting 4\n",
      "WARNING: Entity <bound method Dense.call of <tensorflow.python.layers.core.Dense object at 0x7f84ec300b50>> could not be transformed and will be executed as-is. Please report this to the AutgoGraph team. When filing the bug, set the verbosity to 10 (on Linux, `export AUTOGRAPH_VERBOSITY=10`) and attach the full output. Cause: converting <bound method Dense.call of <tensorflow.python.layers.core.Dense object at 0x7f84ec300b50>>: AssertionError: Bad argument number for Name: 3, expecting 4\n",
      "WARNING:tensorflow:From /home/stephen/Documents/code/RLConn/RLConn/control_dqn.py:94: The name tf.squared_difference is deprecated. Please use tf.math.squared_difference instead.\n",
      "\n",
      "WARNING:tensorflow:From /home/stephen/Documents/code/RLConn/RLConn/control_dqn.py:96: The name tf.train.AdamOptimizer is deprecated. Please use tf.compat.v1.train.AdamOptimizer instead.\n",
      "\n",
      "WARNING:tensorflow:From /home/stephen/Documents/code/RLConn/RLConn/control_dqn.py:41: The name tf.get_collection is deprecated. Please use tf.compat.v1.get_collection instead.\n",
      "\n",
      "Using the default neural parameters\n",
      "Accepted the custom connectivity\n",
      "All neurons are healthy\n",
      "Network integration prep completed...\n",
      "Computing network dynamics...\n"
     ]
    }
   ],
   "source": [
    "import os\n",
    "import numpy as np\n",
    "import matplotlib.pyplot as plt\n",
    "import matplotlib.animation as animation\n",
    "\n",
    "default_dir = os.path.dirname(os.getcwd())\n",
    "os.chdir(default_dir)\n",
    "import RLConn as rc\n",
    "from RLConn import problem_definitions as problems\n",
    "from RLConn import connectome_utils as connectome_utils\n",
    "\n",
    "problem = problems.get_three_neuron_oscillation_definition()\n",
    "m1_target = problem.m1_target"
   ]
  },
  {
   "cell_type": "code",
   "execution_count": 3,
   "metadata": {},
   "outputs": [
    {
     "name": "stdout",
     "output_type": "stream",
     "text": [
      "Shapes of m1: 500\n"
     ]
    }
   ],
   "source": [
    "print(\"Shapes of m1: %s\" % (m1_target.shape))"
   ]
  },
  {
   "cell_type": "code",
   "execution_count": 4,
   "metadata": {},
   "outputs": [
    {
     "data": {
      "text/plain": [
       "Text(0.5, 0.98, 'Golden dynamics')"
      ]
     },
     "execution_count": 4,
     "metadata": {},
     "output_type": "execute_result"
    },
    {
     "data": {
      "image/png": "[encoded data removed]",
      "text/plain": [
       "<Figure size 720x216 with 1 Axes>"
      ]
     },
     "metadata": {
      "needs_background": "light"
     },
     "output_type": "display_data"
    }
   ],
   "source": [
    "num_timesamples = m1_target.shape[0]\n",
    "\n",
    "timepoints = np.arange(0, num_timesamples * t_delta, t_delta)\n",
    "fig, ax = plt.subplots(figsize=(10, 3))\n",
    "ax.plot(timepoints, m1_target, label=\"M1\", c =\"red\", alpha =0.2)\n",
    "ax.set_xlabel(\"Time\")\n",
    "ax.set_ylabel(\"Voltage\")\n",
    "ax.legend()\n",
    "fig.suptitle(\"Golden dynamics\")"
   ]
  },
  {
   "cell_type": "markdown",
   "metadata": {},
   "source": [
    "# Initial unoptimized connectome"
   ]
  },
  {
   "cell_type": "code",
   "execution_count": 5,
   "metadata": {},
   "outputs": [
    {
     "name": "stdout",
     "output_type": "stream",
     "text": [
      "Using the default neural parameters\n",
      "Accepted the custom connectivity\n",
      "All neurons are healthy\n",
      "Network integration prep completed...\n",
      "Computing network dynamics...\n",
      "Mean error = 0.0000, Summed error  = 0.0000\n"
     ]
    }
   ],
   "source": [
    "from RLConn import stephen_utils as connectomes\n",
    "\n",
    "N = problem.N\n",
    "np.random.seed(2)\n",
    "init_compact_vec = [8, 5, 2, 7, 7, 7, 2, 8, 3] + np.random.rand(num_gg_compact(N) + num_gs_compact(N))\n",
    "init_Gg, init_Gs = connectomes.compact_to_model_param(init_compact_vec, N)\n",
    "\n",
    "mean_err, summed_err = rc.utils.compute_problem_score(init_Gg, init_Gs, problem, verbose=False, plot_result=False)\n",
    "print(\"Mean error = %.4f, Summed error  = %.4f\" % (mean_err, summed_err))"
   ]
  },
  {
   "cell_type": "markdown",
   "metadata": {},
   "source": [
    "# Perform optimization"
   ]
  },
  {
   "cell_type": "code",
   "execution_count": 6,
   "metadata": {},
   "outputs": [],
   "source": [
    "eval_times = []\n",
    "errs = []\n",
    "num_called = 0\n",
    "min_err = 1000000\n",
    "def obj_fun(compact_vec):\n",
    "  global num_called\n",
    "  global min_err\n",
    "  global init_Gg\n",
    "  global init_Gs\n",
    "  global eval_times\n",
    "  global errors\n",
    "  num_called += 1\n",
    "  gg_mat, gs_mat = connectomes.compact_to_model_param(compact_vec, N)\n",
    "  mean_err, summed_err = rc.utils.compute_problem_score(gg_mat, gs_mat, problem,\n",
    "                                                        plot_result=False, verbose=False)\n",
    "  # TODO: Train on summed_err or mean?\n",
    "  err = summed_err\n",
    "  min_err = min(min_err, err)\n",
    "  if num_called % 10 == 0:\n",
    "    print(\"Evaluation %s, error = %.2f, min_error = %.2f\" % (num_called, err, min_err))\n",
    "    print(\"Gg = \" + str(gg_mat))\n",
    "    print(\"Gs = \" + str(gs_mat))\n",
    "    print(\"delta Gg = \" + str((init_Gg - gg_mat).round(2)))\n",
    "    print(\"delta Gs = \" + str((init_Gs - gs_mat).round(2)))\n",
    "    eval_times.append(num_called)\n",
    "    errs.append(err)\n",
    "  return err"
   ]
  },
  {
   "cell_type": "code",
   "execution_count": 7,
   "metadata": {},
   "outputs": [
    {
     "name": "stdout",
     "output_type": "stream",
     "text": [
      "Using the default neural parameters\n",
      "Accepted the custom connectivity\n",
      "All neurons are healthy\n",
      "Network integration prep completed...\n",
      "Computing network dynamics...\n",
      "Using the default neural parameters\n",
      "Accepted the custom connectivity\n",
      "All neurons are healthy\n",
      "Network integration prep completed...\n",
      "Computing network dynamics...\n",
      "Using the default neural parameters\n",
      "Accepted the custom connectivity\n",
      "All neurons are healthy\n",
      "Network integration prep completed...\n",
      "Computing network dynamics...\n",
      "Using the default neural parameters\n",
      "Accepted the custom connectivity\n",
      "All neurons are healthy\n",
      "Network integration prep completed...\n",
      "Computing network dynamics...\n",
      "Using the default neural parameters\n",
      "Accepted the custom connectivity\n",
      "All neurons are healthy\n",
      "Network integration prep completed...\n",
      "Computing network dynamics...\n",
      "Using the default neural parameters\n",
      "Accepted the custom connectivity\n",
      "All neurons are healthy\n",
      "Network integration prep completed...\n",
      "Computing network dynamics...\n",
      "Using the default neural parameters\n",
      "Accepted the custom connectivity\n",
      "All neurons are healthy\n",
      "Network integration prep completed...\n",
      "Computing network dynamics...\n",
      "Using the default neural parameters\n",
      "Accepted the custom connectivity\n",
      "All neurons are healthy\n",
      "Network integration prep completed...\n",
      "Computing network dynamics...\n",
      "Using the default neural parameters\n",
      "Accepted the custom connectivity\n",
      "All neurons are healthy\n",
      "Network integration prep completed...\n",
      "Computing network dynamics...\n",
      "Using the default neural parameters\n",
      "Accepted the custom connectivity\n",
      "All neurons are healthy\n",
      "Network integration prep completed...\n",
      "Computing network dynamics...\n",
      "Evaluation 10, error = 8.89, min_error = 0.00\n",
      "Gg = [[0. 8. 5.]\n",
      " [8. 0. 2.]\n",
      " [5. 2. 0.]]\n",
      "Gs = [[0.         2.         8.        ]\n",
      " [7.         0.         3.00000004]\n",
      " [7.         7.         0.        ]]\n",
      "delta Gg = [[0. 0. 0.]\n",
      " [0. 0. 0.]\n",
      " [0. 0. 0.]]\n",
      "delta Gs = [[ 0.  0.  0.]\n",
      " [ 0.  0. -0.]\n",
      " [ 0.  0.  0.]]\n",
      "Using the default neural parameters\n",
      "Accepted the custom connectivity\n",
      "All neurons are healthy\n",
      "Network integration prep completed...\n",
      "Computing network dynamics...\n",
      "Using the default neural parameters\n",
      "Accepted the custom connectivity\n",
      "All neurons are healthy\n",
      "Network integration prep completed...\n",
      "Computing network dynamics...\n",
      "Using the default neural parameters\n",
      "Accepted the custom connectivity\n",
      "All neurons are healthy\n",
      "Network integration prep completed...\n",
      "Computing network dynamics...\n",
      "Using the default neural parameters\n",
      "Accepted the custom connectivity\n",
      "All neurons are healthy\n",
      "Network integration prep completed...\n",
      "Computing network dynamics...\n",
      "Using the default neural parameters\n",
      "Accepted the custom connectivity\n",
      "All neurons are healthy\n",
      "Network integration prep completed...\n",
      "Computing network dynamics...\n",
      "Using the default neural parameters\n",
      "Accepted the custom connectivity\n",
      "All neurons are healthy\n",
      "Network integration prep completed...\n",
      "Computing network dynamics...\n",
      "Using the default neural parameters\n",
      "Accepted the custom connectivity\n",
      "All neurons are healthy\n",
      "Network integration prep completed...\n",
      "Computing network dynamics...\n",
      "Using the default neural parameters\n",
      "Accepted the custom connectivity\n",
      "All neurons are healthy\n",
      "Network integration prep completed...\n",
      "Computing network dynamics...\n",
      "Using the default neural parameters\n",
      "Accepted the custom connectivity\n",
      "All neurons are healthy\n",
      "Network integration prep completed...\n",
      "Computing network dynamics...\n",
      "Using the default neural parameters\n",
      "Accepted the custom connectivity\n",
      "All neurons are healthy\n",
      "Network integration prep completed...\n",
      "Computing network dynamics...\n",
      "Evaluation 20, error = 4881.89, min_error = 0.00\n",
      "Gg = [[0.         7.98153811 4.92180553]\n",
      " [7.98153811 0.         1.88540281]\n",
      " [4.92180553 1.88540281 0.        ]]\n",
      "Gs = [[0.         1.90309615 7.49116097]\n",
      " [6.89297939 0.         2.94432564]\n",
      " [6.981679   6.9425442  0.        ]]\n",
      "delta Gg = [[0.   0.02 0.08]\n",
      " [0.02 0.   0.11]\n",
      " [0.08 0.11 0.  ]]\n",
      "delta Gs = [[0.   0.1  0.51]\n",
      " [0.11 0.   0.06]\n",
      " [0.02 0.06 0.  ]]\n",
      "Total optimization time = 2.56s\n",
      " barrier_parameter: 0.1\n",
      " barrier_tolerance: 0.1\n",
      "          cg_niter: 1\n",
      "      cg_stop_cond: 2\n",
      "            constr: [array([8., 5., 2., 7., 7., 7., 2., 8., 3.])]\n",
      "       constr_nfev: [0]\n",
      "       constr_nhev: [0]\n",
      "       constr_njev: [0]\n",
      "    constr_penalty: 1.0\n",
      "  constr_violation: 0.0\n",
      "    execution_time: 1.245161533355713\n",
      "               fun: 0.0\n",
      "              grad: array([1.84736975e+08, 3.55113556e+08, 4.67581188e+08, 5.56225787e+08,\n",
      "       1.44515530e+08, 3.26164581e+08, 3.80840093e+08, 2.58879622e+09,\n",
      "       1.98943319e+08])\n",
      "               jac: [<9x9 sparse matrix of type '<class 'numpy.float64'>'\n",
      "\twith 9 stored elements in Compressed Sparse Row format>]\n",
      "   lagrangian_grad: array([1.65230586e+08, 3.42920816e+08, 4.18209261e+08, 5.25508247e+08,\n",
      "       1.36534667e+08, 3.08152160e+08, 3.40627164e+08, 2.31544507e+09,\n",
      "       1.87956685e+08])\n",
      "           message: 'The maximum number of function evaluations is exceeded.'\n",
      "            method: 'tr_interior_point'\n",
      "              nfev: 20\n",
      "              nhev: 0\n",
      "               nit: 2\n",
      "             niter: 2\n",
      "              njev: 0\n",
      "        optimality: 2315445066.0654664\n",
      "            status: 0\n",
      "           success: False\n",
      "         tr_radius: 0.5\n",
      "                 v: [array([-1.95063886e+07, -1.21927401e+07, -4.93719267e+07, -3.07175393e+07,\n",
      "       -7.98086237e+06, -1.80124215e+07, -4.02129291e+07, -2.73351154e+08,\n",
      "       -1.09866342e+07])]\n",
      "                 x: array([8., 5., 2., 7., 7., 7., 2., 8., 3.])\n"
     ]
    }
   ],
   "source": [
    "from scipy.optimize import minimize\n",
    "from scipy.optimize import basinhopping\n",
    "import time\n",
    "\n",
    "N = problem.N\n",
    "init_cond_compact = connectomes.model_to_compact_param(init_Gg, init_Gs, N)\n",
    "bnds = [(0, 10)] * len(init_cond_compact)\n",
    "\n",
    "\"\"\"\n",
    "These methods are discarded:\n",
    "Doesn't handle bounds. Documentation says: L-BFGS-B, TNC, SLSQP and trust-constr \n",
    "- BFGS \n",
    "- Powell \n",
    "- Nelder-Mead\n",
    "\"\"\"\n",
    "\n",
    "# See the options from here\n",
    "# https://docs.scipy.org/doc/scipy-0.13.0/reference/generated/scipy.optimize.show_options.html\n",
    "def optimize_with_SLSQP():\n",
    "  return minimize(obj_fun, init_cond_compact, method='SLSQP', bounds=bnds,\n",
    "                  options={'maxiter':100})\n",
    "\n",
    "def optimize_with_L_BFGS_B():\n",
    "  return minimize(obj_fun, init_cond_compact, method='L-BFGS-B', bounds=bnds,\n",
    "                  options={'maxiter':10})\n",
    "\n",
    "def optimize_with_TNC():\n",
    "  return minimize(obj_fun, init_cond_compact, method='TNC', bounds=bnds,\n",
    "                  options={'maxiter':10})\n",
    "\n",
    "def optimize_with_trust_constr():\n",
    "  # TODO: Change the opt back to 100\n",
    "  return minimize(obj_fun, init_cond_compact, method='trust-constr', bounds=bnds,\n",
    "                  options={'maxiter':1})\n",
    "\n",
    "def optimize_with_basin_hopping():\n",
    "  minimizer_kwargs = {\"method\":\"Powell\", \"bounds\":bnds}\n",
    "  # You can add niter=k to limit the number of bruteforces\n",
    "  return basinhopping(obj_fun, init_cond_compact, minimizer_kwargs=minimizer_kwargs)\n",
    "  \n",
    "start_time = time.time()\n",
    "res = optimize_with_trust_constr()\n",
    "print(\"Total optimization time = %.2fs\" % (time.time() - start_time))\n",
    "print(res)"
   ]
  },
  {
   "cell_type": "code",
   "execution_count": 8,
   "metadata": {},
   "outputs": [
    {
     "name": "stdout",
     "output_type": "stream",
     "text": [
      "The optimized Gg and Gs are:\n",
      "[[0. 8. 5.]\n",
      " [8. 0. 2.]\n",
      " [5. 2. 0.]]\n",
      "[[0. 2. 8.]\n",
      " [7. 0. 3.]\n",
      " [7. 7. 0.]]\n",
      "\n",
      "Old Gg and Gs are:\n",
      "[[0. 8. 5.]\n",
      " [8. 0. 2.]\n",
      " [5. 2. 0.]]\n",
      "[[0. 2. 8.]\n",
      " [7. 0. 3.]\n",
      " [7. 7. 0.]]\n",
      "\n",
      "The difference matrices are:\n",
      "[[0. 0. 0.]\n",
      " [0. 0. 0.]\n",
      " [0. 0. 0.]]\n",
      "[[0. 0. 0.]\n",
      " [0. 0. 0.]\n",
      " [0. 0. 0.]]\n",
      "\n"
     ]
    },
    {
     "data": {
      "text/plain": [
       "Text(0.5, 0.98, 'Error trends during optimization')"
      ]
     },
     "execution_count": 8,
     "metadata": {},
     "output_type": "execute_result"
    },
    {
     "data": {
      "image/png": "[encoded data removed]",
      "text/plain": [
       "<Figure size 720x216 with 1 Axes>"
      ]
     },
     "metadata": {
      "needs_background": "light"
     },
     "output_type": "display_data"
    }
   ],
   "source": [
    "new_Gg, new_Gs = connectomes.compact_to_model_param(res.x, N)\n",
    "print(\"The optimized Gg and Gs are:\\n%s\\n%s\\n\" % (new_Gg, new_Gs))\n",
    "print(\"Old Gg and Gs are:\\n%s\\n%s\\n\" % (init_Gg, init_Gs))\n",
    "print(\"The difference matrices are:\\n%s\\n%s\\n\" % (new_Gg-init_Gg, new_Gs-init_Gs))\n",
    "\n",
    "fig, ax = plt.subplots(nrows=1, ncols=1, figsize=(10, 3))\n",
    "ax.plot(eval_times, errs)\n",
    "ax.set_xlabel('Obj func evaluation count')\n",
    "ax.set_ylabel('Error')\n",
    "fig.suptitle(\"Error trends during optimization\")"
   ]
  },
  {
   "cell_type": "markdown",
   "metadata": {},
   "source": [
    "# Compare optimized dynamics against golden"
   ]
  },
  {
   "cell_type": "code",
   "execution_count": 9,
   "metadata": {},
   "outputs": [
    {
     "name": "stdout",
     "output_type": "stream",
     "text": [
      "Using the default neural parameters\n",
      "Accepted the custom connectivity\n",
      "All neurons are healthy\n",
      "Network integration prep completed...\n",
      "Computing network dynamics...\n",
      "Mean error = 0.0000, Summed error  = 0.0000\n"
     ]
    },
    {
     "data": {
      "image/png": "[encoded data removed]",
      "text/plain": [
       "<Figure size 720x216 with 1 Axes>"
      ]
     },
     "metadata": {
      "needs_background": "light"
     },
     "output_type": "display_data"
    }
   ],
   "source": [
    "initial_network = connectome_utils.generate_random_network(\n",
    "  N = problem.N,\n",
    "  n_inhibitory = 1,\n",
    "  max_degree = 15)\n",
    "\n",
    "mean_err, summed_err = rc.utils.compute_problem_score(new_Gg, new_Gs,\n",
    "                                                        problem, verbose=False,)\n",
    "print(\"Mean error = %.4f, Summed error  = %.4f\" % (mean_err, summed_err))"
   ]
  },
  {
   "cell_type": "code",
   "execution_count": null,
   "metadata": {},
   "outputs": [],
   "source": []
  },
  {
   "cell_type": "code",
   "execution_count": null,
   "metadata": {},
   "outputs": [],
   "source": []
  }
 ],
 "metadata": {
  "kernelspec": {
   "display_name": "rlconn-env",
   "language": "python",
   "name": "rlconn-env"
  },
  "language_info": {
   "codemirror_mode": {
    "name": "ipython",
    "version": 3
   },
   "file_extension": ".py",
   "mimetype": "text/x-python",
   "name": "python",
   "nbconvert_exporter": "python",
   "pygments_lexer": "ipython3",
   "version": "3.7.6"
  }
 },
 "nbformat": 4,
 "nbformat_minor": 4
}
