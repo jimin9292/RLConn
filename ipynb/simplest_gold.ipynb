{
 "cells": [
  {
   "cell_type": "markdown",
   "metadata": {},
   "source": [
    "Setup for the simplest gold standard. 3 neurons showing oscillation. Gold dynamics generated not from in-vivo data, but from the model itself."
   ]
  },
  {
   "cell_type": "code",
   "execution_count": 34,
   "metadata": {},
   "outputs": [
    {
     "name": "stdout",
     "output_type": "stream",
     "text": [
      "Using the default neural parameters\n",
      "Accepted the custom connectivity\n",
      "All neurons are healthy\n",
      "Network integration prep completed...\n",
      "Computing network dynamics...\n"
     ]
    }
   ],
   "source": [
    "import os\n",
    "import numpy as np\n",
    "import matplotlib.pyplot as plt\n",
    "import matplotlib.animation as animation\n",
    "\n",
    "default_dir = os.path.dirname(os.getcwd())\n",
    "os.chdir(default_dir)\n",
    "\n",
    "from RLConn import network_sim\n",
    "\n",
    "N = 3\n",
    "Gg = np.array([[0, 8, 5],\n",
    "               [8, 0, 2],\n",
    "               [5, 2, 0]])\n",
    "Gs = np.array([[0, 2, 8],\n",
    "               [7, 0, 3],\n",
    "               [7, 7, 0]])\n",
    "is_inhibitory = np.array([1, 0 ,0])\n",
    "input_vec = [0, 0.03 ,0]\n",
    "# We are not doing any ablation.\n",
    "ablation_mask = np.ones(N)\n",
    "t_delta = 0.01\n",
    "\n",
    "# Run for 10 seconds.\n",
    "tf = 10\n",
    "cutoff_1 = 500\n",
    "cutoff_2 = 1000\n",
    "\n",
    "network_dict = {\n",
    "  \"gap\" : Gg,\n",
    "  \"syn\" : Gs,\n",
    "  \"directionality\" : is_inhibitory\n",
    "}\n",
    "\n",
    "# Initialize model with the network dict\n",
    "\n",
    "network_sim.initialize_params_neural()\n",
    "network_sim.initialize_connectivity(network_dict)\n",
    "\n",
    "# Simulate network with given input_vec and ablation mask\n",
    "\n",
    "network_result_dict = network_sim.run_network_constinput_RL(0, tf, t_delta, \n",
    "                                                           input_vec=input_vec,\n",
    "                                                           ablation_mask=ablation_mask,\n",
    "                                                           verbose=False)\n",
    "# Obtain test modes using SVD \n",
    "v_solution_truncated = network_result_dict['v_solution'][100:, :]\n",
    "u,s,v = np.linalg.svd(v_solution_truncated.T)\n",
    "\n",
    "top_mode = np.dot(v_solution_truncated, u)[cutoff_1:cutoff_2, 0]"
   ]
  },
  {
   "cell_type": "code",
   "execution_count": 36,
   "metadata": {},
   "outputs": [
    {
     "data": {
      "text/plain": [
       "Text(0.5, 0.98, 'Golden dynamics')"
      ]
     },
     "execution_count": 36,
     "metadata": {},
     "output_type": "execute_result"
    },
    {
     "data": {
      "image/png": "[encoded data removed]",
      "text/plain": [
       "<Figure size 720x216 with 1 Axes>"
      ]
     },
     "metadata": {
      "needs_background": "light"
     },
     "output_type": "display_data"
    }
   ],
   "source": [
    "num_timesamples = top_mode.shape[0]\n",
    "\n",
    "timepoints = np.arange(0, num_timesamples * t_delta, t_delta)\n",
    "fig, ax = plt.subplots(figsize=(10, 3))\n",
    "ax.plot(timepoints, top_mode, label=\"Top mode\", c =\"red\", alpha =0.2)\n",
    "ax.set_xlabel(\"Time\")\n",
    "ax.set_ylabel(\"Voltage\")\n",
    "ax.legend()\n",
    "fig.suptitle(\"Golden dynamics\")"
   ]
  },
  {
   "cell_type": "code",
   "execution_count": null,
   "metadata": {},
   "outputs": [],
   "source": []
  }
 ],
 "metadata": {
  "kernelspec": {
   "display_name": "rlconn-env",
   "language": "python",
   "name": "rlconn-env"
  },
  "language_info": {
   "codemirror_mode": {
    "name": "ipython",
    "version": 3
   },
   "file_extension": ".py",
   "mimetype": "text/x-python",
   "name": "python",
   "nbconvert_exporter": "python",
   "pygments_lexer": "ipython3",
   "version": "3.7.6"
  }
 },
 "nbformat": 4,
 "nbformat_minor": 4
}
