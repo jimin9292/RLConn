{
 "cells": [
  {
   "cell_type": "code",
   "execution_count": null,
   "metadata": {
    "collapsed": false
   },
   "outputs": [],
   "source": [
    "%matplotlib inline\n",
    "\n",
    "import os\n",
    "\n",
    "import numpy as np\n",
    "import matplotlib.pyplot as plt\n",
    "import matplotlib.patches as mpatches\n",
    "\n",
    "from scripts import solve_model as sm"
   ]
  },
  {
   "cell_type": "code",
   "execution_count": null,
   "metadata": {
    "collapsed": false
   },
   "outputs": [],
   "source": [
    "input_Mask = np.zeros(sm.N)\n",
    "ablation_Mask = np.ones(sm.N, dtype = 'bool')\n",
    "\n",
    "noise_mean = 0.\n",
    "v_var = 3\n",
    "s_var = 1e-5\n",
    "\n",
    "R = np.eye(sm.N * 2)\n",
    "R[0, 0] = v_var\n",
    "R[1, 1] = v_var\n",
    "R[2, 2] = v_var\n",
    "R[3, 3] = s_var\n",
    "R[4, 4] = s_var\n",
    "R[5, 5] = s_var"
   ]
  },
  {
   "cell_type": "code",
   "execution_count": null,
   "metadata": {
    "collapsed": false
   },
   "outputs": [],
   "source": [
    "input_Mask[1] = 0.05"
   ]
  },
  {
   "cell_type": "code",
   "execution_count": null,
   "metadata": {
    "collapsed": false
   },
   "outputs": [],
   "source": [
    "result_dict = sm.run_Network(0, 20, 0.01, input_Mask, ablation_Mask = ablation_Mask, mode = 'standard')"
   ]
  },
  {
   "cell_type": "code",
   "execution_count": null,
   "metadata": {
    "collapsed": false
   },
   "outputs": [],
   "source": [
    "t_arr = result_dict['t']\n",
    "vol_mat = result_dict['voltage_mat']\n",
    "syn_mat = result_dict['syn_activity_mat']\n",
    "nsteps = result_dict['steps']\n",
    "V_th = result_dict['V_threshold']"
   ]
  },
  {
   "cell_type": "code",
   "execution_count": null,
   "metadata": {
    "collapsed": false
   },
   "outputs": [],
   "source": [
    "sm.Vth"
   ]
  },
  {
   "cell_type": "code",
   "execution_count": null,
   "metadata": {
    "collapsed": false
   },
   "outputs": [],
   "source": [
    "VsubVth = np.subtract(vol_mat, np.tile(V_th, (nsteps, 1))).transpose()\n",
    "syn_mat_reshaped = syn_mat.transpose()"
   ]
  },
  {
   "cell_type": "code",
   "execution_count": null,
   "metadata": {
    "collapsed": false
   },
   "outputs": [],
   "source": [
    "plt.plot(t_arr[100:], VsubVth[0, 100:], linewidth = 2, color = 'blue'), \n",
    "plt.plot(t_arr[100:], VsubVth[1, 100:], linewidth = 2, color = 'red'),\n",
    "plt.plot(t_arr[100:], VsubVth[2, 100:], linewidth = 2, color = 'orange')\n",
    "plt.xlabel('Time (s)')\n",
    "plt.ylabel('Voltage (mV)')\n",
    "\n",
    "blue_patch = mpatches.Patch(color='blue', label='Neuron #1')\n",
    "red_patch = mpatches.Patch(color='red', label='Neuron #2')\n",
    "orange_patch = mpatches.Patch(color='orange', label='Neuron #3')\n",
    "plt.legend(bbox_to_anchor=(1.05, 1), loc=5, borderaxespad=0., handles=[blue_patch, red_patch, orange_patch])\n",
    "plt.savefig('voltage_dyn_true.png')"
   ]
  },
  {
   "cell_type": "code",
   "execution_count": null,
   "metadata": {
    "collapsed": false
   },
   "outputs": [],
   "source": [
    "plt.plot(t_arr[100:], syn_mat_reshaped[0, 100:], linewidth = 2, color = 'blue'),\n",
    "plt.plot(t_arr[100:], syn_mat_reshaped[1, 100:], linewidth = 2, color = 'red'), \n",
    "plt.plot(t_arr[100:], syn_mat_reshaped[2, 100:], linewidth = 2, color = 'orange')\n",
    "plt.xlabel('Time (s)')\n",
    "plt.ylabel('Synaptic Activity')\n",
    "\n",
    "blue_patch = mpatches.Patch(color='blue', label='Neuron #1')\n",
    "red_patch = mpatches.Patch(color='red', label='Neuron #2')\n",
    "orange_patch = mpatches.Patch(color='orange', label='Neuron #3')\n",
    "plt.legend(bbox_to_anchor=(1.05, 1), loc=5, borderaxespad=0., handles=[blue_patch, red_patch, orange_patch])\n",
    "plt.savefig('syn_dyn_true.png')"
   ]
  },
  {
   "cell_type": "code",
   "execution_count": null,
   "metadata": {
    "collapsed": false
   },
   "outputs": [],
   "source": [
    "t_arr_c, combined_noised, Vth = sm.add_Noise(result_dict, noise_mean, v_var, s_var)\n",
    "VsubVth_noised = np.subtract(combined_noised[:3, :], np.tile(V_th, (nsteps, 1)).transpose())"
   ]
  },
  {
   "cell_type": "code",
   "execution_count": null,
   "metadata": {
    "collapsed": false
   },
   "outputs": [],
   "source": [
    "plt.plot(t_arr_c[100:], VsubVth_noised[0, 100:], color = 'blue'),\n",
    "plt.plot(t_arr_c[100:], VsubVth_noised[1, 100:], color = 'red'),\n",
    "plt.plot(t_arr_c[100:], VsubVth_noised[2, 100:], color = 'orange')\n",
    "plt.xlabel('Time (s)')\n",
    "plt.ylabel('Voltage (mV)')\n",
    "\n",
    "blue_patch = mpatches.Patch(color='blue', label='Neuron #1')\n",
    "red_patch = mpatches.Patch(color='red', label='Neuron #2')\n",
    "orange_patch = mpatches.Patch(color='orange', label='Neuron #3')\n",
    "plt.legend(bbox_to_anchor=(1.05, 1), loc=5, borderaxespad=0., handles=[blue_patch, red_patch, orange_patch])\n",
    "plt.savefig('voltage_dyn_noise.png')"
   ]
  },
  {
   "cell_type": "code",
   "execution_count": null,
   "metadata": {
    "collapsed": false
   },
   "outputs": [],
   "source": [
    "plt.plot(t_arr_c[100:], combined_noised[3, 100:], color = 'blue'),\n",
    "plt.plot(t_arr_c[100:], combined_noised[4, 100:], color = 'red'),\n",
    "plt.plot(t_arr_c[100:], combined_noised[5, 100:], color = 'orange')\n",
    "plt.xlabel('Time (s)')\n",
    "plt.ylabel('Synaptic Activity')\n",
    "\n",
    "blue_patch = mpatches.Patch(color='blue', label='Neuron #1')\n",
    "red_patch = mpatches.Patch(color='red', label='Neuron #2')\n",
    "orange_patch = mpatches.Patch(color='orange', label='Neuron #3')\n",
    "plt.legend(bbox_to_anchor=(1.05, 1), loc=5, borderaxespad=0., handles=[blue_patch, red_patch, orange_patch])\n",
    "plt.savefig('syn_dyn_noise.png')"
   ]
  },
  {
   "cell_type": "code",
   "execution_count": null,
   "metadata": {
    "collapsed": true
   },
   "outputs": [],
   "source": [
    "result_dict_ref = sm.run_Network(0, 20, 0.01, input_Mask, ablation_Mask = ablation_Mask, mode='model')"
   ]
  },
  {
   "cell_type": "code",
   "execution_count": null,
   "metadata": {
    "collapsed": true
   },
   "outputs": [],
   "source": [
    "t_arr_ref = result_dict_ref['t']\n",
    "vol_mat_ref = result_dict_ref['voltage_mat']\n",
    "syn_mat_ref = result_dict_ref['syn_activity_mat']\n",
    "nsteps_ref = result_dict_ref['steps']\n",
    "V_th_ref = result_dict_ref['V_threshold']"
   ]
  },
  {
   "cell_type": "code",
   "execution_count": null,
   "metadata": {
    "collapsed": false
   },
   "outputs": [],
   "source": [
    "sm.Vth"
   ]
  },
  {
   "cell_type": "code",
   "execution_count": null,
   "metadata": {
    "collapsed": false
   },
   "outputs": [],
   "source": [
    "VsubVth_ref = np.subtract(vol_mat_ref, np.tile(V_th_ref, (nsteps_ref, 1))).transpose()\n",
    "syn_mat_reshaped_ref = syn_mat_ref.transpose()"
   ]
  },
  {
   "cell_type": "code",
   "execution_count": null,
   "metadata": {
    "collapsed": false
   },
   "outputs": [],
   "source": [
    "x_init_true = np.hstack([vol_mat[100, :], syn_mat[100, :]])\n",
    "x_init = sm.compute_Init(x_init_true, [30, 30, 30, 1e-4, 1e-4, 1e-4])\n",
    "\n",
    "P_init = np.eye(len(x_init))\n",
    "P_init[0, 0] = 30\n",
    "P_init[1, 1] = 30\n",
    "P_init[2, 2] = 30\n",
    "P_init[3, 3] = 1e-4\n",
    "P_init[4, 4] = 1e-4\n",
    "P_init[5, 5] = 1e-4\n",
    "\n",
    "y = combined_noised[:, 100:]"
   ]
  },
  {
   "cell_type": "code",
   "execution_count": null,
   "metadata": {
    "collapsed": false
   },
   "outputs": [],
   "source": [
    "np.dot(P_init, np.linalg.inv(np.add(P_init, R)))"
   ]
  },
  {
   "cell_type": "code",
   "execution_count": null,
   "metadata": {
    "collapsed": false
   },
   "outputs": [],
   "source": [
    "xf_list, Pf_list, xu_list, Pu_list = sm.run_EFK(x_init, P_init, 0, 0.01, R, y)"
   ]
  },
  {
   "cell_type": "code",
   "execution_count": null,
   "metadata": {
    "collapsed": false
   },
   "outputs": [],
   "source": [
    "xu_mat = np.hstack(xu_list)\n",
    "v_est_mat = xu_mat[:3, :]\n",
    "s_est_mat = xu_mat[3:, :]\n",
    "Vth_mat = np.tile(V_th, (len(xu_list), 1)).transpose()\n",
    "\n",
    "v_est_final = np.subtract(v_est_mat, Vth_mat)"
   ]
  },
  {
   "cell_type": "code",
   "execution_count": null,
   "metadata": {
    "collapsed": false
   },
   "outputs": [],
   "source": [
    "plt.plot(t_arr[100:], v_est_final[0, :], linewidth = 2, color = 'black'),\n",
    "plt.plot(t_arr[100:], VsubVth[0, 100:], linewidth = 2, color = 'orange'),\n",
    "plt.plot(t_arr[100:], VsubVth_ref[0, 100:], linewidth = 2, color = 'blue')\n",
    "plt.xlabel('Time (s)')\n",
    "plt.ylabel('Voltage (mV)')\n",
    "\n",
    "black_patch = mpatches.Patch(color='black', label='Estimated')\n",
    "orange_patch = mpatches.Patch(color='orange', label='True')\n",
    "red_patch = mpatches.Patch(color='blue', label='Assumed Model')\n",
    "plt.legend(bbox_to_anchor=(1.05, 1), loc=5, borderaxespad=0., handles=[black_patch, orange_patch, red_patch])\n",
    "plt.savefig('V1_compare')"
   ]
  },
  {
   "cell_type": "code",
   "execution_count": null,
   "metadata": {
    "collapsed": false
   },
   "outputs": [],
   "source": [
    "plt.plot(t_arr[100:], v_est_final[1, :], linewidth = 2, color = 'black'), \n",
    "plt.plot(t_arr[100:], VsubVth[1, 100:], linewidth = 2, color = 'orange'),\n",
    "plt.plot(t_arr[100:], VsubVth_ref[1, 100:], linewidth = 2, color = 'blue')\n",
    "plt.xlabel('Time (s)')\n",
    "plt.ylabel('Voltage (mV)')\n",
    "\n",
    "black_patch = mpatches.Patch(color='black', label='Estimated')\n",
    "orange_patch = mpatches.Patch(color='orange', label='True')\n",
    "red_patch = mpatches.Patch(color='blue', label='Assumed Model')\n",
    "plt.legend(bbox_to_anchor=(1.05, 1), loc=5, borderaxespad=0., handles=[black_patch, orange_patch, red_patch])\n",
    "plt.savefig('V2_compare')"
   ]
  },
  {
   "cell_type": "code",
   "execution_count": null,
   "metadata": {
    "collapsed": false
   },
   "outputs": [],
   "source": [
    "plt.plot(t_arr[100:], v_est_final[2, :], linewidth = 2, color = 'black'), \n",
    "plt.plot(t_arr[100:], VsubVth[2, 100:], linewidth = 2, color = 'orange'),\n",
    "plt.plot(t_arr[100:], VsubVth_ref[2, 100:], linewidth = 2, color = 'blue')\n",
    "plt.xlabel('Time (s)')\n",
    "plt.ylabel('Voltage (mV)')\n",
    "\n",
    "black_patch = mpatches.Patch(color='black', label='Estimated')\n",
    "orange_patch = mpatches.Patch(color='orange', label='True')\n",
    "red_patch = mpatches.Patch(color='blue', label='Assumed Model')\n",
    "plt.legend(bbox_to_anchor=(1.05, 1), loc=5, borderaxespad=0., handles=[black_patch, orange_patch, red_patch])\n",
    "plt.savefig('V3_compare')"
   ]
  },
  {
   "cell_type": "code",
   "execution_count": null,
   "metadata": {
    "collapsed": false
   },
   "outputs": [],
   "source": [
    "plt.plot(t_arr[100:], s_est_mat[0, :], linewidth = 2, color = 'black'), \n",
    "plt.plot(t_arr[100:], syn_mat_reshaped[0, 100:], linewidth = 2, color = 'orange'),\n",
    "plt.plot(t_arr[100:], syn_mat_reshaped_ref[0, 100:], linewidth = 2, color = 'blue')\n",
    "plt.xlabel('Time (s)')\n",
    "plt.ylabel('Synaptic Activity')\n",
    "\n",
    "black_patch = mpatches.Patch(color='black', label='Estimated')\n",
    "orange_patch = mpatches.Patch(color='orange', label='True')\n",
    "red_patch = mpatches.Patch(color='blue', label='Assumed Model')\n",
    "plt.legend(bbox_to_anchor=(1.05, 1), loc=5, borderaxespad=0., handles=[black_patch, orange_patch, red_patch])\n",
    "plt.savefig('S1_compare')"
   ]
  },
  {
   "cell_type": "code",
   "execution_count": null,
   "metadata": {
    "collapsed": false
   },
   "outputs": [],
   "source": [
    "plt.plot(t_arr[100:], s_est_mat[1, :], linewidth = 2, color = 'black'), \n",
    "plt.plot(t_arr[100:], syn_mat_reshaped[1, 100:], linewidth = 2, color = 'orange'),\n",
    "plt.plot(t_arr[100:], syn_mat_reshaped_ref[1, 100:], linewidth = 2, color = 'blue')\n",
    "plt.xlabel('Time (s)')\n",
    "plt.ylabel('Synaptic Activity')\n",
    "\n",
    "black_patch = mpatches.Patch(color='black', label='Estimated')\n",
    "orange_patch = mpatches.Patch(color='orange', label='True')\n",
    "red_patch = mpatches.Patch(color='blue', label='Assumed Model')\n",
    "plt.legend(bbox_to_anchor=(1.05, 1), loc=5, borderaxespad=0., handles=[black_patch, orange_patch, red_patch])\n",
    "plt.savefig('S2_compare')"
   ]
  },
  {
   "cell_type": "code",
   "execution_count": null,
   "metadata": {
    "collapsed": false
   },
   "outputs": [],
   "source": [
    "plt.plot(t_arr[100:], s_est_mat[2, :], linewidth = 2, color = 'black'), \n",
    "plt.plot(t_arr[100:], syn_mat_reshaped[2, 100:], linewidth = 2, color = 'orange'),\n",
    "plt.plot(t_arr[100:], syn_mat_reshaped_ref[2, 100:], linewidth = 2, color = 'blue')\n",
    "plt.xlabel('Time (s)')\n",
    "plt.ylabel('Synaptic Activity')\n",
    "\n",
    "black_patch = mpatches.Patch(color='black', label='Estimated')\n",
    "orange_patch = mpatches.Patch(color='orange', label='True')\n",
    "red_patch = mpatches.Patch(color='blue', label='Assumed Model')\n",
    "plt.legend(bbox_to_anchor=(1.05, 1), loc=5, borderaxespad=0., handles=[black_patch, orange_patch, red_patch])\n",
    "plt.savefig('S3_compare')"
   ]
  },
  {
   "cell_type": "code",
   "execution_count": null,
   "metadata": {
    "collapsed": false
   },
   "outputs": [],
   "source": [
    "MSE_0 = sm.compute_MSE(VsubVth_noised[:, 110:], VsubVth[:, 110:])\n",
    "MSE_1 = sm.compute_MSE(v_est_final[:, 10:], VsubVth[:, 110:])\n",
    "MSE_0, MSE_1"
   ]
  },
  {
   "cell_type": "code",
   "execution_count": null,
   "metadata": {
    "collapsed": false
   },
   "outputs": [],
   "source": [
    "v_error = np.subtract(v_est_final, VsubVth[:, 100:])\n",
    "s_error = np.subtract(s_est_mat, syn_mat_reshaped[:, 100:])\n",
    "\n",
    "plt.plot(t_arr[200:], v_error[0, 100:])\n",
    "plt.xlabel('Time (s)')\n",
    "plt.ylabel('Error')\n",
    "plt.savefig('Error_plot_S2')"
   ]
  }
 ],
 "metadata": {
  "anaconda-cloud": {},
  "kernelspec": {
   "display_name": "Python [default]",
   "language": "python",
   "name": "python2"
  },
  "language_info": {
   "codemirror_mode": {
    "name": "ipython",
    "version": 2
   },
   "file_extension": ".py",
   "mimetype": "text/x-python",
   "name": "python",
   "nbconvert_exporter": "python",
   "pygments_lexer": "ipython2",
   "version": "2.7.12"
  }
 },
 "nbformat": 4,
 "nbformat_minor": 1
}
